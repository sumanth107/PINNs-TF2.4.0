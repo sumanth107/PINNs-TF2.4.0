{
  "nbformat": 4,
  "nbformat_minor": 0,
  "metadata": {
    "colab": {
      "name": "PINN_4.ipynb",
      "provenance": [],
      "collapsed_sections": []
    },
    "kernelspec": {
      "name": "python3",
      "display_name": "Python 3"
    }
  },
  "cells": [
    {
      "cell_type": "markdown",
      "metadata": {
        "id": "FbPO_mtT8fCC"
      },
      "source": [
        "# Milestone 1"
      ]
    },
    {
      "cell_type": "markdown",
      "metadata": {
        "id": "5qiAbtqC-DTD"
      },
      "source": [
        "## 1-D Burgers Equation\r\n",
        "$u_{t} + \\lambda uu_{x} = \\nu u_{xx}$"
      ]
    },
    {
      "cell_type": "code",
      "metadata": {
        "id": "atwcM_IV7r39"
      },
      "source": [
        "#@uthor : $um@nth Nethi\r\n",
        "\r\n",
        "import tensorflow as tf\r\n",
        "import numpy as np\r\n",
        "import matplotlib.pyplot as plt\r\n",
        "from tensorflow import keras\r\n",
        "from tensorflow.keras.models import Sequential, Model, load_model\r\n",
        "from tensorflow.keras.layers import Activation, Dense, BatchNormalization, InputLayer, Lambda\r\n",
        "from tensorflow.keras.optimizers import Adam\r\n",
        "from tensorflow.keras.initializers import glorot_normal\r\n",
        "import scipy.io"
      ],
      "execution_count": null,
      "outputs": []
    },
    {
      "cell_type": "code",
      "metadata": {
        "colab": {
          "base_uri": "https://localhost:8080/"
        },
        "id": "-QyFs6khYP7R",
        "outputId": "c749c8ca-3561-47de-eb21-bb6585c8eb67"
      },
      "source": [
        "pip install livelossplot"
      ],
      "execution_count": null,
      "outputs": [
        {
          "output_type": "stream",
          "text": [
            "Collecting livelossplot\n",
            "  Downloading https://files.pythonhosted.org/packages/0f/08/1884157a3de72d41fa97cacacafaa49abf00eba53cb7e08615b2b65b4a9d/livelossplot-0.5.3-py3-none-any.whl\n",
            "Requirement already satisfied: bokeh; python_version >= \"3.6\" in /usr/local/lib/python3.6/dist-packages (from livelossplot) (2.1.1)\n",
            "Requirement already satisfied: ipython in /usr/local/lib/python3.6/dist-packages (from livelossplot) (5.5.0)\n",
            "Requirement already satisfied: matplotlib; python_version >= \"3.6\" in /usr/local/lib/python3.6/dist-packages (from livelossplot) (3.2.2)\n",
            "Requirement already satisfied: PyYAML>=3.10 in /usr/local/lib/python3.6/dist-packages (from bokeh; python_version >= \"3.6\"->livelossplot) (3.13)\n",
            "Requirement already satisfied: packaging>=16.8 in /usr/local/lib/python3.6/dist-packages (from bokeh; python_version >= \"3.6\"->livelossplot) (20.8)\n",
            "Requirement already satisfied: typing-extensions>=3.7.4 in /usr/local/lib/python3.6/dist-packages (from bokeh; python_version >= \"3.6\"->livelossplot) (3.7.4.3)\n",
            "Requirement already satisfied: python-dateutil>=2.1 in /usr/local/lib/python3.6/dist-packages (from bokeh; python_version >= \"3.6\"->livelossplot) (2.8.1)\n",
            "Requirement already satisfied: pillow>=4.0 in /usr/local/lib/python3.6/dist-packages (from bokeh; python_version >= \"3.6\"->livelossplot) (7.0.0)\n",
            "Requirement already satisfied: Jinja2>=2.7 in /usr/local/lib/python3.6/dist-packages (from bokeh; python_version >= \"3.6\"->livelossplot) (2.11.2)\n",
            "Requirement already satisfied: tornado>=5.1 in /usr/local/lib/python3.6/dist-packages (from bokeh; python_version >= \"3.6\"->livelossplot) (5.1.1)\n",
            "Requirement already satisfied: numpy>=1.11.3 in /usr/local/lib/python3.6/dist-packages (from bokeh; python_version >= \"3.6\"->livelossplot) (1.19.5)\n",
            "Requirement already satisfied: setuptools>=18.5 in /usr/local/lib/python3.6/dist-packages (from ipython->livelossplot) (51.1.1)\n",
            "Requirement already satisfied: traitlets>=4.2 in /usr/local/lib/python3.6/dist-packages (from ipython->livelossplot) (4.3.3)\n",
            "Requirement already satisfied: pygments in /usr/local/lib/python3.6/dist-packages (from ipython->livelossplot) (2.6.1)\n",
            "Requirement already satisfied: pickleshare in /usr/local/lib/python3.6/dist-packages (from ipython->livelossplot) (0.7.5)\n",
            "Requirement already satisfied: simplegeneric>0.8 in /usr/local/lib/python3.6/dist-packages (from ipython->livelossplot) (0.8.1)\n",
            "Requirement already satisfied: decorator in /usr/local/lib/python3.6/dist-packages (from ipython->livelossplot) (4.4.2)\n",
            "Requirement already satisfied: pexpect; sys_platform != \"win32\" in /usr/local/lib/python3.6/dist-packages (from ipython->livelossplot) (4.8.0)\n",
            "Requirement already satisfied: prompt-toolkit<2.0.0,>=1.0.4 in /usr/local/lib/python3.6/dist-packages (from ipython->livelossplot) (1.0.18)\n",
            "Requirement already satisfied: kiwisolver>=1.0.1 in /usr/local/lib/python3.6/dist-packages (from matplotlib; python_version >= \"3.6\"->livelossplot) (1.3.1)\n",
            "Requirement already satisfied: cycler>=0.10 in /usr/local/lib/python3.6/dist-packages (from matplotlib; python_version >= \"3.6\"->livelossplot) (0.10.0)\n",
            "Requirement already satisfied: pyparsing!=2.0.4,!=2.1.2,!=2.1.6,>=2.0.1 in /usr/local/lib/python3.6/dist-packages (from matplotlib; python_version >= \"3.6\"->livelossplot) (2.4.7)\n",
            "Requirement already satisfied: six>=1.5 in /usr/local/lib/python3.6/dist-packages (from python-dateutil>=2.1->bokeh; python_version >= \"3.6\"->livelossplot) (1.15.0)\n",
            "Requirement already satisfied: MarkupSafe>=0.23 in /usr/local/lib/python3.6/dist-packages (from Jinja2>=2.7->bokeh; python_version >= \"3.6\"->livelossplot) (1.1.1)\n",
            "Requirement already satisfied: ipython-genutils in /usr/local/lib/python3.6/dist-packages (from traitlets>=4.2->ipython->livelossplot) (0.2.0)\n",
            "Requirement already satisfied: ptyprocess>=0.5 in /usr/local/lib/python3.6/dist-packages (from pexpect; sys_platform != \"win32\"->ipython->livelossplot) (0.7.0)\n",
            "Requirement already satisfied: wcwidth in /usr/local/lib/python3.6/dist-packages (from prompt-toolkit<2.0.0,>=1.0.4->ipython->livelossplot) (0.2.5)\n",
            "Installing collected packages: livelossplot\n",
            "Successfully installed livelossplot-0.5.3\n"
          ],
          "name": "stdout"
        }
      ]
    },
    {
      "cell_type": "code",
      "metadata": {
        "colab": {
          "base_uri": "https://localhost:8080/"
        },
        "id": "vGtftx8-hRLk",
        "outputId": "360ed513-141f-4776-a20e-6994c6e1570b"
      },
      "source": [
        "pip install pyDOE"
      ],
      "execution_count": null,
      "outputs": [
        {
          "output_type": "stream",
          "text": [
            "Collecting pyDOE\n",
            "  Downloading https://files.pythonhosted.org/packages/bc/ac/91fe4c039e2744466621343d3b8af4a485193ed0aab53af5b1db03be0989/pyDOE-0.3.8.zip\n",
            "Requirement already satisfied: numpy in /usr/local/lib/python3.6/dist-packages (from pyDOE) (1.19.5)\n",
            "Requirement already satisfied: scipy in /usr/local/lib/python3.6/dist-packages (from pyDOE) (1.4.1)\n",
            "Building wheels for collected packages: pyDOE\n",
            "  Building wheel for pyDOE (setup.py) ... \u001b[?25l\u001b[?25hdone\n",
            "  Created wheel for pyDOE: filename=pyDOE-0.3.8-cp36-none-any.whl size=18178 sha256=98c51cb686846db547ce34e575808fb8ba3f5bcc817173ee595682401508d292\n",
            "  Stored in directory: /root/.cache/pip/wheels/7c/c8/58/a6493bd415e8ba5735082b5e0c096d7c1f2933077a8ce34544\n",
            "Successfully built pyDOE\n",
            "Installing collected packages: pyDOE\n",
            "Successfully installed pyDOE-0.3.8\n"
          ],
          "name": "stdout"
        }
      ]
    },
    {
      "cell_type": "code",
      "metadata": {
        "id": "VxQU4suDhUnA"
      },
      "source": [
        "from pyDOE import lhs\r\n",
        "from livelossplot import PlotLossesKerasTF"
      ],
      "execution_count": null,
      "outputs": []
    },
    {
      "cell_type": "markdown",
      "metadata": {
        "id": "MNNx1gyqJjaL"
      },
      "source": [
        "### Input $\\lambda$ and $\\nu$ "
      ]
    },
    {
      "cell_type": "code",
      "metadata": {
        "colab": {
          "base_uri": "https://localhost:8080/"
        },
        "id": "a95z8yqxJi1E",
        "outputId": "d365d520-15f4-475a-b286-f593db65aa64"
      },
      "source": [
        "L = float(eval(input('lambda   : ')))\r\n",
        "nu = float(eval(input('nu   : ')))"
      ],
      "execution_count": null,
      "outputs": [
        {
          "output_type": "stream",
          "text": [
            "lambda   : 1\n",
            "nu   : 0.01/np.pi\n"
          ],
          "name": "stdout"
        }
      ]
    },
    {
      "cell_type": "markdown",
      "metadata": {
        "id": "cgW0Ro-E_qG3"
      },
      "source": [
        "### Input x & t limits\r\n",
        "$x \\in [x_1, x_2]$\\\r\n",
        "$t\\ \\in [0, t]$"
      ]
    },
    {
      "cell_type": "code",
      "metadata": {
        "colab": {
          "base_uri": "https://localhost:8080/"
        },
        "id": "s4EED6hz_BCr",
        "outputId": "f2e4da2e-232a-4cd7-fb43-73639adb6e38"
      },
      "source": [
        "x1 = float(input('x1   : '))\r\n",
        "x2 = float(input('x2   : '))\r\n",
        "t = float(input('t    : '))\r\n",
        "x = np.linspace(x1, x2, 512)\r\n",
        "t = np.linspace(0, t, 256)"
      ],
      "execution_count": null,
      "outputs": [
        {
          "output_type": "stream",
          "text": [
            "x1   : -1\n",
            "x2   : 1\n",
            "t    : 1\n"
          ],
          "name": "stdout"
        }
      ]
    },
    {
      "cell_type": "markdown",
      "metadata": {
        "id": "8-cRSZDFAX_U"
      },
      "source": [
        "### Input Boundary and Initial Conditions\r\n",
        "$u(x1, t) = u_{0}(t)$  \r\n",
        "$u(x2, t) = u_{1}(t)$  \r\n",
        "$u(x, 0)\\ = g(x)$"
      ]
    },
    {
      "cell_type": "code",
      "metadata": {
        "colab": {
          "base_uri": "https://localhost:8080/"
        },
        "id": "BI1kXGd__BBN",
        "outputId": "b4c7ed72-66ff-4eb8-d380-fd5df0e3975a"
      },
      "source": [
        "u_x1 = np.array(eval(input('u(x1,t)  : ')))\r\n",
        "u_x2 = np.array(eval(input('u(x2,t)  : ')))\r\n",
        "u_x =  np.array(eval(input('u(x,0)   : ')))\r\n",
        "if u_x1.size==1:\r\n",
        "  u_x1 = u_x1*np.ones(256)\r\n",
        "if u_x2.size==1:\r\n",
        "  u_x2 = u_x2*np.ones(256)\r\n",
        "if u_x.size==1:\r\n",
        "  u_x = u_x*np.ones(512)"
      ],
      "execution_count": null,
      "outputs": [
        {
          "output_type": "stream",
          "text": [
            "u(x1,t)  : 0\n",
            "u(x2,t)  : 0\n",
            "u(x,0)   : -np.sin(np.pi*x)\n"
          ],
          "name": "stdout"
        }
      ]
    },
    {
      "cell_type": "markdown",
      "metadata": {
        "id": "kUEGJtFWB6pR"
      },
      "source": [
        "### Training Data Generation for the Input Conditions"
      ]
    },
    {
      "cell_type": "code",
      "metadata": {
        "id": "GGoX8dDm_A9j"
      },
      "source": [
        "X, T = np.meshgrid(x,t)\r\n",
        "xx1 = np.hstack((X[0:1,:].T, T[0:1,:].T))\r\n",
        "xx2 = np.hstack((X[:,0:1], T[:,0:1]))\r\n",
        "xx3 = np.hstack((X[:,-1:], T[:,-1:]))\r\n",
        "X_train = np.vstack((xx1, xx2, xx3))                                            #Training Data for Boundary Conditions : Contains 2 columns [x, t]\r\n",
        "u_x = np.reshape(u_x, (-1,1))\r\n",
        "u_x1 = np.reshape(u_x1, (-1,1))\r\n",
        "u_x2 = np.reshape(u_x2, (-1,1))\r\n",
        "u_train = np.vstack([u_x, u_x2, u_x1])                                          #Corresponding u values of training data\r\n",
        "lb = np.array([x1,0])                                                           #Lower bounds of x and t\r\n",
        "ub = np.array([x2,max(t)])                                                      #Upper bounds of x and t\r\n",
        "\r\n",
        "X_f_train = lb + (ub-lb)*lhs(2, samples=15000)                                  #Collocation points\r\n",
        "X_f_train = np.vstack((X_f_train, X_train))\r\n",
        "X_f = tf.convert_to_tensor(X_f_train[:,0:1])         \r\n",
        "T_f = tf.convert_to_tensor(X_f_train[:,1:2])"
      ],
      "execution_count": null,
      "outputs": []
    },
    {
      "cell_type": "markdown",
      "metadata": {
        "id": "fZdqE_k8FSAj"
      },
      "source": [
        "### PINN"
      ]
    },
    {
      "cell_type": "code",
      "metadata": {
        "colab": {
          "base_uri": "https://localhost:8080/",
          "height": 1000
        },
        "id": "7aB1GORh_A8O",
        "outputId": "192c3040-395d-490e-8391-0038a55ddd4b"
      },
      "source": [
        "layers = [2, 50, 50, 50, 50, 50, 50, 50, 50, 1]                                 #Neurons in each layer\r\n",
        "def PINN(layers, lb, ub):\r\n",
        "  model = Sequential()\r\n",
        "  model.add(InputLayer(layers[0],))\r\n",
        "  model.add(Lambda(lambda X: 2.0*(X - lb)/(ub - lb) - 1.0))                     #Normalizing all inputs between 0 and 1\r\n",
        "  for i in layers[1:-1]:\r\n",
        "    model.add(Dense(units=i, activation=\"tanh\", kernel_initializer=\"glorot_normal\"))\r\n",
        "  model.add(Dense(units=layers[-1], kernel_initializer=\"glorot_normal\"))\r\n",
        "  return model\r\n",
        "\r\n",
        "def custom_loss(model, X_f, T_f, nu, L):\r\n",
        "  def loss(u_train, u_pred):\r\n",
        "    with tf.GradientTape(persistent=True) as tape:\r\n",
        "      tape.watch(X_f)\r\n",
        "      tape.watch(T_f)\r\n",
        "      xf = tf.stack([X_f[:,0], T_f[:,0]], axis=1) \r\n",
        "      u = tf.cast(model(xf), dtype='float64')\r\n",
        "      u_x = tape.gradient(u, X_f)\r\n",
        "    u_xx = tape.gradient(u_x, X_f)\r\n",
        "    u_t = tape.gradient(u, T_f)\r\n",
        "    del tape\r\n",
        "    u_train = tf.cast(u_train, dtype='float64')\r\n",
        "    u_pred = tf.cast(u_pred, dtype='float64')\r\n",
        "    f = u_t + L*u*u_x - nu*u_xx\r\n",
        "    loss1 = tf.reduce_mean(tf.square(u_pred - u_train))\r\n",
        "    loss2 = tf.reduce_mean(tf.square(f))\r\n",
        "    return loss1 + loss2\r\n",
        "  return loss\r\n",
        "\r\n",
        "pinn = PINN(layers, lb, ub)\r\n",
        "loss_fn = custom_loss(pinn, X_f, T_f, nu, L)\r\n",
        "pinn.summary()\r\n",
        "keras.utils.plot_model(pinn)"
      ],
      "execution_count": null,
      "outputs": [
        {
          "output_type": "stream",
          "text": [
            "Model: \"sequential\"\n",
            "_________________________________________________________________\n",
            "Layer (type)                 Output Shape              Param #   \n",
            "=================================================================\n",
            "lambda (Lambda)              (None, 2)                 0         \n",
            "_________________________________________________________________\n",
            "dense (Dense)                (None, 50)                150       \n",
            "_________________________________________________________________\n",
            "dense_1 (Dense)              (None, 50)                2550      \n",
            "_________________________________________________________________\n",
            "dense_2 (Dense)              (None, 50)                2550      \n",
            "_________________________________________________________________\n",
            "dense_3 (Dense)              (None, 50)                2550      \n",
            "_________________________________________________________________\n",
            "dense_4 (Dense)              (None, 50)                2550      \n",
            "_________________________________________________________________\n",
            "dense_5 (Dense)              (None, 50)                2550      \n",
            "_________________________________________________________________\n",
            "dense_6 (Dense)              (None, 50)                2550      \n",
            "_________________________________________________________________\n",
            "dense_7 (Dense)              (None, 50)                2550      \n",
            "_________________________________________________________________\n",
            "dense_8 (Dense)              (None, 1)                 51        \n",
            "=================================================================\n",
            "Total params: 18,051\n",
            "Trainable params: 18,051\n",
            "Non-trainable params: 0\n",
            "_________________________________________________________________\n"
          ],
          "name": "stdout"
        },
        {
          "output_type": "execute_result",
          "data": {
            "image/png": "[encoded data removed]",
            "text/plain": [
              "<IPython.core.display.Image object>"
            ]
          },
          "metadata": {
            "tags": []
          },
          "execution_count": 10
        }
      ]
    },
    {
      "cell_type": "code",
      "metadata": {
        "id": "DH5C_MON_A3R",
        "colab": {
          "base_uri": "https://localhost:8080/",
          "height": 677
        },
        "outputId": "0662d60a-1f43-4efb-a24f-052dfb1cda5b"
      },
      "source": [
        "plot_loss = PlotLossesKerasTF()\r\n",
        "pinn.compile(optimizer=Adam(learning_rate=0.0003, decay= 0.00001), loss=loss_fn, metrics=['mse'])\r\n",
        "pinn.fit(X_train, u_train, batch_size=128, epochs=1000, verbose=1, callbacks=[plot_loss])"
      ],
      "execution_count": null,
      "outputs": [
        {
          "output_type": "display_data",
          "data": {
            "image/png": "[encoded data removed]",
            "text/plain": [
              "<Figure size 864x576 with 2 Axes>"
            ]
          },
          "metadata": {
            "tags": [],
            "needs_background": "light"
          }
        },
        {
          "output_type": "stream",
          "text": [
            "Loss\n",
            "\tloss             \t (min:    0.000, max:    0.046, cur:    0.000)\n",
            "Mean Squared Error\n",
            "\tmse              \t (min:    0.000, max:    0.003, cur:    0.000)\n"
          ],
          "name": "stdout"
        },
        {
          "output_type": "execute_result",
          "data": {
            "text/plain": [
              "<tensorflow.python.keras.callbacks.History at 0x7f75ef175780>"
            ]
          },
          "metadata": {
            "tags": []
          },
          "execution_count": 16
        }
      ]
    },
    {
      "cell_type": "markdown",
      "metadata": {
        "id": "N2WLQHlS5fWP"
      },
      "source": [
        "## Model Testing"
      ]
    },
    {
      "cell_type": "code",
      "metadata": {
        "colab": {
          "base_uri": "https://localhost:8080/"
        },
        "id": "t64Q0ecS1blY",
        "outputId": "95071e14-7406-40cd-b042-addcb8a59274"
      },
      "source": [
        "u_test = np.array([[0.6961],[0.6937], [0.6912], [0.6885], [0.6857]])\r\n",
        "X_test = np.array([[-0.2314, 0.02],\r\n",
        "                   [-0.2235, 0.03],\r\n",
        "                   [-0.2157, 0.04],\r\n",
        "                   [-0.2078, 0.05],\r\n",
        "                   [-0.2000, 0.06]])\r\n",
        "u_predicted = pinn.predict(X_test)\r\n",
        "table = np.hstack((u_predicted, u_test))\r\n",
        "print('Predicted    -    Test')\r\n",
        "print(table)"
      ],
      "execution_count": null,
      "outputs": [
        {
          "output_type": "stream",
          "text": [
            "Predicted    -    Test\n",
            "[[0.69204986 0.6961    ]\n",
            " [0.68954998 0.6937    ]\n",
            " [0.68715662 0.6912    ]\n",
            " [0.68437338 0.6885    ]\n",
            " [0.68167895 0.6857    ]]\n"
          ],
          "name": "stdout"
        }
      ]
    },
    {
      "cell_type": "code",
      "metadata": {
        "colab": {
          "base_uri": "https://localhost:8080/"
        },
        "id": "2KeBGTQESpqN",
        "outputId": "f17d2245-650e-4644-dafa-a222e1a5355c"
      },
      "source": [
        "l = np.array([[0.69204986 ,0.6961    ],\r\n",
        "              [0.68954998 ,0.6937    ],\r\n",
        "              [0.68715662 ,0.6912    ],\r\n",
        "              [0.68437338 ,0.6885    ],\r\n",
        "              [0.68167895 ,0.6857    ]])\r\n",
        "error = float(tf.reduce_mean(tf.square(l[:,0:1]-l[:,1:2])))                     #mean square error of predicted data compared to test data\r\n",
        "print('Prediction Error :',error)                                               #L2 norm"
      ],
      "execution_count": null,
      "outputs": [
        {
          "output_type": "stream",
          "text": [
            "Prediction Error : 1.6634611514259986e-05\n"
          ],
          "name": "stdout"
        }
      ]
    },
    {
      "cell_type": "markdown",
      "metadata": {
        "id": "j3-Wid7d1UBJ"
      },
      "source": [
        "## Save Model\r\n",
        "The generated model results are satisfactory"
      ]
    },
    {
      "cell_type": "code",
      "metadata": {
        "id": "XdJJluqTc4Rd"
      },
      "source": [
        "pinn.save('pinn4.h5')\r\n",
        "pinn.save_weights('pinn4_weights.h5')"
      ],
      "execution_count": null,
      "outputs": []
    }
  ]
}